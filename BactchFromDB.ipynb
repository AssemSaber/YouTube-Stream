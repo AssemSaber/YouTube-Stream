{
 "cells": [
  {
   "cell_type": "code",
   "execution_count": 1,
   "metadata": {},
   "outputs": [],
   "source": [
    "from pyspark.sql import SparkSession"
   ]
  },
  {
   "cell_type": "code",
   "execution_count": 2,
   "metadata": {},
   "outputs": [],
   "source": [
    "spark = SparkSession.builder \\\n",
    "    .appName(\"KafkaSparkIntegration\") \\\n",
    "    .config(\"spark.jars.packages\", \"org.apache.spark:spark-sql-kafka-0-10_2.12:3.4.2\") \\\n",
    "    .getOrCreate()"
   ]
  },
  {
   "cell_type": "code",
   "execution_count": 3,
   "metadata": {},
   "outputs": [],
   "source": [
    "hostName='localhost'\n",
    "port=3306\n",
    "database='streamdb'\n",
    "table='youtubelive'\n",
    "url=f'jdbc:mysql://{hostName}:{port}/{database}'"
   ]
  },
  {
   "cell_type": "code",
   "execution_count": 4,
   "metadata": {},
   "outputs": [],
   "source": [
    "properties = {\n",
    "    \"user\": \"root\",\n",
    "    \"password\": \"root\",\n",
    "    \"driver\": \"com.mysql.cj.jdbc.Driver\"\n",
    "}"
   ]
  },
  {
   "cell_type": "code",
   "execution_count": 5,
   "metadata": {},
   "outputs": [],
   "source": [
    "try:\n",
    "    df = spark.read.jdbc(url=url, table=table, properties=properties)\n",
    "except Exception as e:\n",
    "    print(f'Error : {str(e)}')"
   ]
  },
  {
   "cell_type": "code",
   "execution_count": 6,
   "metadata": {},
   "outputs": [],
   "source": [
    "df = spark.read.jdbc(url=url, table=table, properties=properties)"
   ]
  },
  {
   "cell_type": "code",
   "execution_count": 7,
   "metadata": {},
   "outputs": [
    {
     "name": "stdout",
     "output_type": "stream",
     "text": [
      "+----------+-------------------+-------------+---------------+--------+-----------+-----------+-----+----------+\n",
      "|  Video_ID|       Channel_Name|      Country|       Category|Comments|Subscribers|Views_Video|Likes| date_live|\n",
      "+----------+-------------------+-------------+---------------+--------+-----------+-----------+-----+----------+\n",
      "|\"vid_00223|   TravelEssentials|        India|            Art|    3819|     272889|     149464| 8579|2020-01-19|\n",
      "|\"vid_00858|          TechTales|       Canada|        Science|    6412|     783870|     684754|13784|2024-10-17|\n",
      "|\"vid_00208|      HealthyLiving|      Belgium|          Music|   14128|    1624328|    1466758|34406|2021-11-01|\n",
      "|\"vid_00267|   GastronomyMaster|    Singapore|            Art|   12114|     873299|     580125|14646|2021-06-07|\n",
      "|\"vid_00955|         ViralVibes|    Singapore|         Crafts|   17098|    1016954|     740620|41681|2024-02-05|\n",
      "|\"vid_00665|           VlogLife| South Africa|   World Events|    1593|      86553|     117575| 2490|2024-12-02|\n",
      "|\"vid_00694|         MusicVibes|      Ukraine| Gaming Reviews|   42250|    1853752|    1618700|44578|2022-04-24|\n",
      "|\"vid_00382|          TechTales|       Mexico|        History|     921|      18651|      27885| 4881|2022-09-23|\n",
      "|\"vid_00435|   GastronomyMaster|      Germany|         Crafts|    8312|      82849|      64216|11146|2020-05-06|\n",
      "|\"vid_00602|     CookingJourney|  New Zealand|       Business|   26747|     218628|    1103145|38153|2022-12-18|\n",
      "|\"vid_00506|          GamerZone|  Netherlands|       Politics|    1936|      18075|      23756| 2546|2021-07-22|\n",
      "|\"vid_00140|           VlogLife|      Nigeria|  Entertainment|    6011|     608499|     366906|16119|2020-02-28|\n",
      "|\"vid_00129|      CreativeMinds|  New Zealand|           Food|    7494|     316802|     174271|13893|2020-05-07|\n",
      "|\"vid_00075|        FitnessGuru|        Spain|         Gaming|    8598|     609491|     574579|12605|2022-04-06|\n",
      "|\"vid_00006|       GamingMaster|        Japan|  Relationships|    9829|     413759|     374481|25677|2020-08-01|\n",
      "|\"vid_00924|         ViralVibes|      Finland|       Politics|    1244|     322123|     180054| 5528|2021-07-11|\n",
      "|\"vid_00765| ExplorationStation|      Belgium|  Relationships|   30274|     636226|     541941|44771|2023-08-28|\n",
      "|\"vid_00386|   TheCookingCorner|    Singapore|   Tech Reviews|   15152|     114470|      82942|28270|2020-04-08|\n",
      "|\"vid_00140|   TravelEssentials|      Ukraine|   Architecture|   17728|     691346|     386088|22933|2020-10-05|\n",
      "|\"vid_00755|         ViralVibes|     Thailand|   Food Reviews|    3794|    1768198|    1780786|37662|2020-10-13|\n",
      "+----------+-------------------+-------------+---------------+--------+-----------+-----------+-----+----------+\n",
      "only showing top 20 rows\n",
      "\n"
     ]
    }
   ],
   "source": [
    "df.show()"
   ]
  },
  {
   "cell_type": "code",
   "execution_count": 10,
   "metadata": {},
   "outputs": [
    {
     "name": "stdout",
     "output_type": "stream",
     "text": [
      "+-----------------+\n",
      "|     Channel_name|\n",
      "+-----------------+\n",
      "| ScienceExplained|\n",
      "|        TechSavvy|\n",
      "|      GamerVision|\n",
      "|     EduTutorials|\n",
      "|      ExploreLife|\n",
      "|    CreativeMinds|\n",
      "|      FitnessGuru|\n",
      "|       MusicVibes|\n",
      "|   LifestyleVibes|\n",
      "| GastronomyMaster|\n",
      "|       MusicVibes|\n",
      "|    HealthyLiving|\n",
      "| TheCookingCorner|\n",
      "|      TheTechSpot|\n",
      "| TheCookingCorner|\n",
      "|       MusicVibes|\n",
      "| AdventureSeekers|\n",
      "|      FitnessGuru|\n",
      "|    GamingLegends|\n",
      "| TheCookingCorner|\n",
      "+-----------------+\n",
      "only showing top 20 rows\n",
      "\n"
     ]
    }
   ],
   "source": [
    "df.createOrReplaceTempView('YouTubeLive')\n",
    "sqlQuery='select Channel_name from YouTubeLive where Views_Video>200000'\n",
    "res=spark.sql(sqlQuery)\n",
    "res.show()\n"
   ]
  },
  {
   "cell_type": "code",
   "execution_count": 34,
   "metadata": {},
   "outputs": [
    {
     "name": "stdout",
     "output_type": "stream",
     "text": [
      "45\n"
     ]
    }
   ],
   "source": [
    "print('45')"
   ]
  },
  {
   "cell_type": "code",
   "execution_count": 35,
   "metadata": {},
   "outputs": [
    {
     "name": "stdout",
     "output_type": "stream",
     "text": [
      ";;\n"
     ]
    }
   ],
   "source": [
    "print(';;')"
   ]
  },
  {
   "cell_type": "code",
   "execution_count": null,
   "metadata": {},
   "outputs": [],
   "source": []
  }
 ],
 "metadata": {
  "kernelspec": {
   "display_name": "Python 3",
   "language": "python",
   "name": "python3"
  },
  "language_info": {
   "codemirror_mode": {
    "name": "ipython",
    "version": 3
   },
   "file_extension": ".py",
   "mimetype": "text/x-python",
   "name": "python",
   "nbconvert_exporter": "python",
   "pygments_lexer": "ipython3",
   "version": "3.9.0"
  }
 },
 "nbformat": 4,
 "nbformat_minor": 2
}
